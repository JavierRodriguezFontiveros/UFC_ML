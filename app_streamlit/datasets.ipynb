{
 "cells": [
  {
   "cell_type": "code",
   "execution_count": 3,
   "metadata": {},
   "outputs": [],
   "source": [
    "import pandas as pd"
   ]
  },
  {
   "cell_type": "markdown",
   "metadata": {},
   "source": [
    "# Cargar el modelo"
   ]
  },
  {
   "cell_type": "code",
   "execution_count": 4,
   "metadata": {},
   "outputs": [],
   "source": [
    "import pickle"
   ]
  },
  {
   "cell_type": "code",
   "execution_count": 5,
   "metadata": {},
   "outputs": [],
   "source": [
    "with open('../models/ufc_model.pkl', 'rb') as model_file:\n",
    "    lgbm = pickle.load(model_file)"
   ]
  },
  {
   "cell_type": "markdown",
   "metadata": {},
   "source": [
    "# Datasets"
   ]
  },
  {
   "cell_type": "code",
   "execution_count": 6,
   "metadata": {},
   "outputs": [
    {
     "data": {
      "text/html": [
       "<div>\n",
       "<style scoped>\n",
       "    .dataframe tbody tr th:only-of-type {\n",
       "        vertical-align: middle;\n",
       "    }\n",
       "\n",
       "    .dataframe tbody tr th {\n",
       "        vertical-align: top;\n",
       "    }\n",
       "\n",
       "    .dataframe thead th {\n",
       "        text-align: right;\n",
       "    }\n",
       "</style>\n",
       "<table border=\"1\" class=\"dataframe\">\n",
       "  <thead>\n",
       "    <tr style=\"text-align: right;\">\n",
       "      <th></th>\n",
       "      <th>fighter</th>\n",
       "      <th>kd</th>\n",
       "      <th>str</th>\n",
       "      <th>td</th>\n",
       "      <th>sub</th>\n",
       "      <th>weight_class</th>\n",
       "    </tr>\n",
       "  </thead>\n",
       "  <tbody>\n",
       "    <tr>\n",
       "      <th>0</th>\n",
       "      <td>Alex Caceres</td>\n",
       "      <td>0.0</td>\n",
       "      <td>43.75</td>\n",
       "      <td>0.00</td>\n",
       "      <td>0.0</td>\n",
       "      <td>2</td>\n",
       "    </tr>\n",
       "    <tr>\n",
       "      <th>1</th>\n",
       "      <td>Andrei Arlovski</td>\n",
       "      <td>0.0</td>\n",
       "      <td>27.00</td>\n",
       "      <td>0.00</td>\n",
       "      <td>0.0</td>\n",
       "      <td>4</td>\n",
       "    </tr>\n",
       "    <tr>\n",
       "      <th>2</th>\n",
       "      <td>Charles Oliveira</td>\n",
       "      <td>0.0</td>\n",
       "      <td>18.50</td>\n",
       "      <td>0.50</td>\n",
       "      <td>0.5</td>\n",
       "      <td>2</td>\n",
       "    </tr>\n",
       "    <tr>\n",
       "      <th>3</th>\n",
       "      <td>Clay Guida</td>\n",
       "      <td>0.0</td>\n",
       "      <td>27.50</td>\n",
       "      <td>1.25</td>\n",
       "      <td>0.0</td>\n",
       "      <td>2</td>\n",
       "    </tr>\n",
       "    <tr>\n",
       "      <th>4</th>\n",
       "      <td>Darren Elkins</td>\n",
       "      <td>0.0</td>\n",
       "      <td>33.75</td>\n",
       "      <td>1.25</td>\n",
       "      <td>0.5</td>\n",
       "      <td>2</td>\n",
       "    </tr>\n",
       "  </tbody>\n",
       "</table>\n",
       "</div>"
      ],
      "text/plain": [
       "            fighter   kd    str    td  sub  weight_class\n",
       "0      Alex Caceres  0.0  43.75  0.00  0.0             2\n",
       "1   Andrei Arlovski  0.0  27.00  0.00  0.0             4\n",
       "2  Charles Oliveira  0.0  18.50  0.50  0.5             2\n",
       "3        Clay Guida  0.0  27.50  1.25  0.0             2\n",
       "4     Darren Elkins  0.0  33.75  1.25  0.5             2"
      ]
     },
     "execution_count": 6,
     "metadata": {},
     "output_type": "execute_result"
    }
   ],
   "source": [
    "metrics_media = pd.read_csv(\"../data/processed/metrics_media.csv\", index_col = \"Unnamed: 0\")\n",
    "metrics_media.head()"
   ]
  },
  {
   "cell_type": "markdown",
   "metadata": {},
   "source": [
    "# Funciones"
   ]
  },
  {
   "cell_type": "code",
   "execution_count": 7,
   "metadata": {},
   "outputs": [],
   "source": [
    "def generar_enfrentamiento(df, peleador_1_id, peleador_2_id):\n",
    "\n",
    "    peleador_1 = df[df['fighter'] == peleador_1_id].iloc[0]\n",
    "    peleador_2 = df[df['fighter'] == peleador_2_id].iloc[0]\n",
    "\n",
    "    # Comprobar si están en la misma categoría de peso\n",
    "    if peleador_1['weight_class'] != peleador_2['weight_class']:\n",
    "        raise ValueError(\"Los peleadores no están en la misma categoría de peso.\")\n",
    "\n",
    "    metrics = {'r_fighter': peleador_1['fighter'],\n",
    "                        'b_fighter': peleador_2['fighter'],\n",
    "                        'r_kd': peleador_1['kd'],\n",
    "                        'b_kd': peleador_2['kd'],\n",
    "                        'r_str': peleador_1['str'],\n",
    "                        'b_str': peleador_2['str'],\n",
    "                        'r_td': peleador_1['td'],\n",
    "                        'b_td': peleador_2['td'],\n",
    "                        'r_sub': peleador_1['sub'],\n",
    "                        'b_sub': peleador_2['sub'],\n",
    "                        'weight_class': peleador_1['weight_class']}\n",
    "\n",
    "    df_versus = pd.DataFrame([metrics])\n",
    "    return df_versus"
   ]
  },
  {
   "cell_type": "code",
   "execution_count": 8,
   "metadata": {},
   "outputs": [],
   "source": [
    "def predecir_ganador(peleador_1, peleador_2):\n",
    "\n",
    "    peso_influencia = {4: 1.5,\n",
    "                       3: 1.25,\n",
    "                       2: 1.3}\n",
    "\n",
    "    puntos_peleador_1 = 0\n",
    "    puntos_peleador_2 = 0\n",
    "\n",
    "    # Knockdowns (ponderados por categoría de peso)\n",
    "    peso_1 = peso_influencia.get(peleador_1['weight_class'], 1.0)\n",
    "    peso_2 = peso_influencia.get(peleador_2['weight_class'], 1.0)\n",
    "    \n",
    "    if peleador_1['weight_class'] != peleador_2['weight_class']:\n",
    "        print(\"No habrá combate por diferencia de pesos\")\n",
    "\n",
    "    if peleador_1['kd'] * peso_1 > peleador_2['kd'] * peso_2:\n",
    "        puntos_peleador_1 += 1\n",
    "    else:\n",
    "        puntos_peleador_2 += 1\n",
    "\n",
    "    # Takedowns\n",
    "    if peleador_1['td'] > peleador_2['td']:\n",
    "        puntos_peleador_1 += 1\n",
    "    else:\n",
    "        puntos_peleador_2 += 1\n",
    "\n",
    "    # Strikes (ponderados por categoría de peso)\n",
    "    if peleador_1['str'] * peso_1 > peleador_2['str'] * peso_2:\n",
    "        puntos_peleador_1 += 1\n",
    "    else:\n",
    "        puntos_peleador_2 += 1\n",
    "\n",
    "    # Submissions\n",
    "    if peleador_1['sub'] > peleador_2['sub']:\n",
    "        puntos_peleador_1 += 1\n",
    "    else:\n",
    "        puntos_peleador_2 += 1\n",
    "\n",
    "    # Sistema de puntuaciones final\n",
    "    if puntos_peleador_1 > puntos_peleador_2:\n",
    "        return peleador_1['fighter']\n",
    "    elif puntos_peleador_2 > puntos_peleador_1:\n",
    "        return peleador_2['fighter']\n",
    "    else:\n",
    "        # Si tienen los mismos puntos, se desempata por el número de strikes\n",
    "        if peleador_1['str'] > peleador_2['str']:\n",
    "            return peleador_1['fighter']\n",
    "        elif peleador_2['str'] > peleador_1['str']:\n",
    "            return peleador_2['fighter']\n",
    "        else:\n",
    "            return \"Empate\"  # Considerar empate si tienen los mismos strikes también.\n",
    "\n"
   ]
  },
  {
   "cell_type": "markdown",
   "metadata": {},
   "source": [
    "# Flujo"
   ]
  },
  {
   "cell_type": "code",
   "execution_count": null,
   "metadata": {},
   "outputs": [],
   "source": [
    "def apuesta(peleador_1, peleador_2, modelo, metrics_media):\n",
    "\n",
    "    peleador_1_data = metrics_media[metrics_media['fighter'] == peleador_1].iloc[0]\n",
    "    peleador_2_data = metrics_media[metrics_media['fighter'] == peleador_2].iloc[0]\n",
    "\n",
    "    versus = generar_enfrentamiento(metrics_media, peleador_1, peleador_2)\n",
    "    versus = versus.drop(columns=[\"r_fighter\", \"b_fighter\"])\n",
    "\n",
    "    ganador = predecir_ganador(peleador_1_data, peleador_2_data)\n",
    "    resultado = float(modelo.predict(versus)[0])\n",
    "    \n",
    "    # Calcular el round y el minuto\n",
    "    round = resultado // 5\n",
    "    minuto = resultado / 5\n",
    "    resto = int(minuto)\n",
    "    parte_decimal = minuto - resto\n",
    "    \n",
    "    #Redondear al alza\n",
    "    if parte_decimal >= 0.5:\n",
    "        resto += 1\n",
    "\n",
    "    return f\"Ganará {ganador} en el round: {int(round)}, exactamente en el minuto {resto}!\""
   ]
  },
  {
   "cell_type": "markdown",
   "metadata": {},
   "source": [
    "# Ejemplo"
   ]
  },
  {
   "cell_type": "code",
   "execution_count": 13,
   "metadata": {},
   "outputs": [
    {
     "data": {
      "text/plain": [
       "'Ganará en el round: 2, exactamente en el minuto 3!'"
      ]
     },
     "execution_count": 13,
     "metadata": {},
     "output_type": "execute_result"
    }
   ],
   "source": [
    "peleador_1 = \"Alex Caceres\"\n",
    "peleador_2 = \"Nate Diaz\"\n",
    "resultado_prediccion = apuesta(peleador_1, peleador_2, lgbm, metrics_media)\n",
    "resultado_prediccion"
   ]
  }
 ],
 "metadata": {
  "kernelspec": {
   "display_name": "Python 3",
   "language": "python",
   "name": "python3"
  },
  "language_info": {
   "codemirror_mode": {
    "name": "ipython",
    "version": 3
   },
   "file_extension": ".py",
   "mimetype": "text/x-python",
   "name": "python",
   "nbconvert_exporter": "python",
   "pygments_lexer": "ipython3",
   "version": "3.12.5"
  }
 },
 "nbformat": 4,
 "nbformat_minor": 2
}
